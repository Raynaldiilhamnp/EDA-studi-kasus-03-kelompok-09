{
  "nbformat": 4,
  "nbformat_minor": 0,
  "metadata": {
    "colab": {
      "provenance": [],
      "collapsed_sections": [],
      "include_colab_link": true
    },
    "kernelspec": {
      "name": "python3",
      "display_name": "Python 3"
    },
    "language_info": {
      "name": "python"
    }
  },
  "cells": [
    {
      "cell_type": "markdown",
      "metadata": {
        "id": "view-in-github",
        "colab_type": "text"
      },
      "source": [
        "<a href=\"https://colab.research.google.com/github/Raynaldiilhamnp/EDA-studi-kasus-03-kelompok-09/blob/main/EDA_Studi_Kasus_03_Kelompok_09.ipynb\" target=\"_parent\"><img src=\"https://colab.research.google.com/assets/colab-badge.svg\" alt=\"Open In Colab\"/></a>"
      ]
    },
    {
      "cell_type": "markdown",
      "source": [
        "# EDA Study Case 03\n",
        "\n",
        "Kelompok 09 \n",
        "\n",
        "**Ketua Kelompok**\n",
        "*   Raynaldi Ilham Nanda Nur Pratama - 11210940000055\n",
        "\n",
        "Anggota \n",
        "*   Noval Firdaus Ramadhan - 11210940000043  \n",
        "*   Yeni Riska Amalia - 11210940000051\n",
        "*   Riesma Ayu Chikharatti - 11210940000053\n",
        "*   Alfathamdi Putra Umaryadi - 11210940000054\n",
        "*   Ulya Salsabila - 11210940000074\n",
        "*   Nayla Sa'adah Fiddaraeni - 11210940000082"
      ],
      "metadata": {
        "id": "DxJGpySgpK0M"
      }
    },
    {
      "cell_type": "markdown",
      "source": [
        "# Data"
      ],
      "metadata": {
        "id": "_O0Fl6IrpNVj"
      }
    },
    {
      "cell_type": "markdown",
      "source": [
        "**1. Import Data**"
      ],
      "metadata": {
        "id": "WyaG5mK5ckWl"
      }
    },
    {
      "cell_type": "markdown",
      "source": [
        "Data diakses dari github, lalu di sambungkan ke google colabs menggunakan fungsi pd.read_csv, data yang diakses ada beberapa kota yaitu kota Jakarta, Bogor, dan Bekasi."
      ],
      "metadata": {
        "id": "k81hkAhRcni6"
      }
    },
    {
      "cell_type": "code",
      "execution_count": null,
      "metadata": {
        "colab": {
          "base_uri": "https://localhost:8080/"
        },
        "id": "kBuy4tpzKumt",
        "outputId": "bfec7a0f-6a1b-44fa-c087-20a4c7287eac"
      },
      "outputs": [
        {
          "output_type": "stream",
          "name": "stdout",
          "text": [
            "--2022-10-26 04:36:21--  https://raw.githubusercontent.com/taufiksutanto/EDA-Case-01-PreProcessing/master/data/jakarta.csv\n",
            "Resolving raw.githubusercontent.com (raw.githubusercontent.com)... 185.199.110.133, 185.199.111.133, 185.199.108.133, ...\n",
            "Connecting to raw.githubusercontent.com (raw.githubusercontent.com)|185.199.110.133|:443... connected.\n",
            "HTTP request sent, awaiting response... 200 OK\n",
            "Length: 65115 (64K) [text/plain]\n",
            "Saving to: ‘data/jakarta.csv’\n",
            "\n",
            "\rjakarta.csv           0%[                    ]       0  --.-KB/s               \rjakarta.csv         100%[===================>]  63.59K  --.-KB/s    in 0.02s   \n",
            "\n",
            "2022-10-26 04:36:21 (3.87 MB/s) - ‘data/jakarta.csv’ saved [65115/65115]\n",
            "\n",
            "--2022-10-26 04:36:21--  https://raw.githubusercontent.com/taufiksutanto/EDA-Case-01-PreProcessing/master/data/bogor.csv\n",
            "Resolving raw.githubusercontent.com (raw.githubusercontent.com)... 185.199.108.133, 185.199.109.133, 185.199.110.133, ...\n",
            "Connecting to raw.githubusercontent.com (raw.githubusercontent.com)|185.199.108.133|:443... connected.\n",
            "HTTP request sent, awaiting response... 200 OK\n",
            "Length: 69047 (67K) [text/plain]\n",
            "Saving to: ‘data/bogor.csv’\n",
            "\n",
            "bogor.csv           100%[===================>]  67.43K  --.-KB/s    in 0.01s   \n",
            "\n",
            "2022-10-26 04:36:21 (5.36 MB/s) - ‘data/bogor.csv’ saved [69047/69047]\n",
            "\n",
            "--2022-10-26 04:36:21--  https://raw.githubusercontent.com/taufiksutanto/EDA-Case-01-PreProcessing/master/data/bekasi.csv\n",
            "Resolving raw.githubusercontent.com (raw.githubusercontent.com)... 185.199.108.133, 185.199.109.133, 185.199.110.133, ...\n",
            "Connecting to raw.githubusercontent.com (raw.githubusercontent.com)|185.199.108.133|:443... connected.\n",
            "HTTP request sent, awaiting response... 200 OK\n",
            "Length: 72106 (70K) [text/plain]\n",
            "Saving to: ‘data/bekasi.csv’\n",
            "\n",
            "bekasi.csv          100%[===================>]  70.42K  --.-KB/s    in 0.01s   \n",
            "\n",
            "2022-10-26 04:36:21 (5.78 MB/s) - ‘data/bekasi.csv’ saved [72106/72106]\n",
            "\n"
          ]
        },
        {
          "output_type": "execute_result",
          "data": {
            "text/plain": [
              "((1024, 26), (999, 26), (992, 26))"
            ]
          },
          "metadata": {},
          "execution_count": 2
        }
      ],
      "source": [
        "# Loading Data:\n",
        "import pandas as pd\n",
        "import matplotlib\n",
        "import matplotlib.pyplot as plt\n",
        "import seaborn as sns\n",
        "import warnings\n",
        "import gc\n",
        "import numpy as np\n",
        "from collections import Counter\n",
        "matplotlib.rcParams['figure.dpi'] = 100\n",
        "sns.set()\n",
        "%matplotlib inline\n",
        "try: # Running Locally, yakinkan \"file_\" berada di folder \"data\"\n",
        "    jakarta = pd.read_csv(\"data/jakarta.csv\", low_memory = False, encoding='utf8')\n",
        "    bogor = pd.read_csv(\"data/bogor.csv\", low_memory = False, encoding='utf8')\n",
        "    bekasi = pd.read_csv(\"data/bekasi.csv\", low_memory = False, encoding='utf8')\n",
        "except: # Running in Google Colab\n",
        "    !mkdir data\n",
        "    !wget -P data/ https://raw.githubusercontent.com/taufiksutanto/EDA-Case-01-PreProcessing/master/data/jakarta.csv\n",
        "    !wget -P data/ https://raw.githubusercontent.com/taufiksutanto/EDA-Case-01-PreProcessing/master/data/bogor.csv\n",
        "    !wget -P data/ https://raw.githubusercontent.com/taufiksutanto/EDA-Case-01-PreProcessing/master/data/bekasi.csv\n",
        "    jakarta = pd.read_csv(\"data/jakarta.csv\", low_memory = False, encoding='utf8')\n",
        "    bogor = pd.read_csv(\"data/bogor.csv\", low_memory = False, encoding='utf8')\n",
        "    bekasi = pd.read_csv(\"data/bekasi.csv\", low_memory = False, encoding='utf8')\n",
        "    \n",
        "jakarta.shape, bogor.shape, bekasi.shape"
      ]
    },
    {
      "cell_type": "markdown",
      "source": [
        "Terdapat hasil jumlah data baris dan kolom data yang belum dibersihkan dan dirapikan. Yaitu 1024 baris dan 26 kolom untuk kota Jakarta, 999 baris dan 26 kolom untuk kota Bogor, dan 992 baris dan 26 kolom untuk kota Bekasi."
      ],
      "metadata": {
        "id": "_JXhqooNc1vp"
      }
    },
    {
      "cell_type": "code",
      "source": [
        "jakarta = pd.DataFrame(jakarta)\n",
        "bogor = pd.DataFrame(bogor)\n",
        "bekasi = pd.DataFrame(bekasi)"
      ],
      "metadata": {
        "id": "q6xD7peYLB_l"
      },
      "execution_count": null,
      "outputs": []
    },
    {
      "cell_type": "code",
      "source": [
        "jakarta.info(), bogor.info(), bekasi.info()"
      ],
      "metadata": {
        "id": "of5-tlNUPAq9",
        "colab": {
          "base_uri": "https://localhost:8080/"
        },
        "outputId": "5f9f6d0b-a250-4f08-daf2-773a193ab59e"
      },
      "execution_count": null,
      "outputs": [
        {
          "output_type": "stream",
          "name": "stdout",
          "text": [
            "<class 'pandas.core.frame.DataFrame'>\n",
            "RangeIndex: 1024 entries, 0 to 1023\n",
            "Data columns (total 26 columns):\n",
            " #   Column       Non-Null Count  Dtype  \n",
            "---  ------       --------------  -----  \n",
            " 0   created_at   121 non-null    object \n",
            " 1   LT           121 non-null    float64\n",
            " 2   LB           121 non-null    float64\n",
            " 3   KT           121 non-null    float64\n",
            " 4   KM           121 non-null    float64\n",
            " 5   garasi       44 non-null     float64\n",
            " 6   carport      90 non-null     float64\n",
            " 7   lokasi       121 non-null    object \n",
            " 8   sertifikat   119 non-null    object \n",
            " 9   listrik      120 non-null    float64\n",
            " 10  hadap        36 non-null     object \n",
            " 11  harga        121 non-null    float64\n",
            " 12  URL          121 non-null    object \n",
            " 13  deskripsi    112 non-null    object \n",
            " 14  Unnamed: 14  0 non-null      float64\n",
            " 15  Unnamed: 15  0 non-null      float64\n",
            " 16  Unnamed: 16  0 non-null      float64\n",
            " 17  Unnamed: 17  0 non-null      float64\n",
            " 18  Unnamed: 18  0 non-null      float64\n",
            " 19  Unnamed: 19  0 non-null      float64\n",
            " 20  Unnamed: 20  0 non-null      float64\n",
            " 21  Unnamed: 21  0 non-null      float64\n",
            " 22  Unnamed: 22  0 non-null      float64\n",
            " 23  Unnamed: 23  0 non-null      float64\n",
            " 24  Unnamed: 24  0 non-null      float64\n",
            " 25  Unnamed: 25  0 non-null      float64\n",
            "dtypes: float64(20), object(6)\n",
            "memory usage: 208.1+ KB\n",
            "<class 'pandas.core.frame.DataFrame'>\n",
            "RangeIndex: 999 entries, 0 to 998\n",
            "Data columns (total 26 columns):\n",
            " #   Column       Non-Null Count  Dtype  \n",
            "---  ------       --------------  -----  \n",
            " 0   created_at   193 non-null    object \n",
            " 1   LT           193 non-null    float64\n",
            " 2   LB           193 non-null    float64\n",
            " 3   KT           193 non-null    float64\n",
            " 4   KM           193 non-null    float64\n",
            " 5   garasi       193 non-null    float64\n",
            " 6   carport      193 non-null    float64\n",
            " 7   lokasi       193 non-null    object \n",
            " 8   sertifikat   193 non-null    object \n",
            " 9   listrik      193 non-null    float64\n",
            " 10  hadap        19 non-null     object \n",
            " 11  harga        193 non-null    float64\n",
            " 12  URL          193 non-null    object \n",
            " 13  deskripsi    193 non-null    object \n",
            " 14  Unnamed: 14  0 non-null      float64\n",
            " 15  Unnamed: 15  0 non-null      float64\n",
            " 16  Unnamed: 16  0 non-null      float64\n",
            " 17  Unnamed: 17  0 non-null      float64\n",
            " 18  Unnamed: 18  0 non-null      float64\n",
            " 19  Unnamed: 19  0 non-null      float64\n",
            " 20  Unnamed: 20  0 non-null      float64\n",
            " 21  Unnamed: 21  0 non-null      float64\n",
            " 22  Unnamed: 22  0 non-null      float64\n",
            " 23  Unnamed: 23  0 non-null      float64\n",
            " 24  Unnamed: 24  0 non-null      float64\n",
            " 25  Unnamed: 25  0 non-null      float64\n",
            "dtypes: float64(20), object(6)\n",
            "memory usage: 203.0+ KB\n",
            "<class 'pandas.core.frame.DataFrame'>\n",
            "RangeIndex: 992 entries, 0 to 991\n",
            "Data columns (total 26 columns):\n",
            " #   Column       Non-Null Count  Dtype  \n",
            "---  ------       --------------  -----  \n",
            " 0   created_at   107 non-null    object \n",
            " 1   LT           107 non-null    float64\n",
            " 2   LB           107 non-null    float64\n",
            " 3   KT           107 non-null    float64\n",
            " 4   KM           106 non-null    float64\n",
            " 5   garasi       33 non-null     float64\n",
            " 6   carport      81 non-null     float64\n",
            " 7   lokasi       107 non-null    object \n",
            " 8   sertifikat   106 non-null    object \n",
            " 9   listrik      101 non-null    float64\n",
            " 10  hadap        48 non-null     object \n",
            " 11  harga        107 non-null    float64\n",
            " 12  URL          107 non-null    object \n",
            " 13  deskripsi    107 non-null    object \n",
            " 14  Unnamed: 14  0 non-null      float64\n",
            " 15  Unnamed: 15  0 non-null      float64\n",
            " 16  Unnamed: 16  0 non-null      float64\n",
            " 17  Unnamed: 17  0 non-null      float64\n",
            " 18  Unnamed: 18  0 non-null      float64\n",
            " 19  Unnamed: 19  0 non-null      float64\n",
            " 20  Unnamed: 20  0 non-null      float64\n",
            " 21  Unnamed: 21  0 non-null      float64\n",
            " 22  Unnamed: 22  0 non-null      float64\n",
            " 23  Unnamed: 23  0 non-null      float64\n",
            " 24  Unnamed: 24  0 non-null      float64\n",
            " 25  Unnamed: 25  0 non-null      float64\n",
            "dtypes: float64(20), object(6)\n",
            "memory usage: 201.6+ KB\n"
          ]
        },
        {
          "output_type": "execute_result",
          "data": {
            "text/plain": [
              "(None, None, None)"
            ]
          },
          "metadata": {},
          "execution_count": 4
        }
      ]
    },
    {
      "cell_type": "code",
      "source": [
        "jakarta.describe().transpose(), "
      ],
      "metadata": {
        "id": "aObMKmMLNO6H",
        "colab": {
          "base_uri": "https://localhost:8080/"
        },
        "outputId": "0d60d6fc-8db7-4d7e-9133-bbc6363ac7fd"
      },
      "execution_count": null,
      "outputs": [
        {
          "output_type": "execute_result",
          "data": {
            "text/plain": [
              "(             count          mean           std          min           25%  \\\n",
              " LT           121.0  2.475868e+02  3.683846e+02         16.0  8.400000e+01   \n",
              " LB           121.0  2.794959e+02  2.852756e+02         21.0  9.700000e+01   \n",
              " KT           121.0  4.272727e+00  1.901754e+00          1.0  3.000000e+00   \n",
              " KM           121.0  3.380165e+00  1.709075e+00          1.0  2.000000e+00   \n",
              " garasi        44.0  1.863636e+00  1.518734e+00          1.0  1.000000e+00   \n",
              " carport       90.0  1.955556e+00  1.475730e+00          1.0  1.000000e+00   \n",
              " listrik      120.0  5.425000e+03  7.891590e+03        900.0  2.200000e+03   \n",
              " harga        121.0  8.985955e+09  1.587610e+10  380000000.0  1.600000e+09   \n",
              " Unnamed: 14    0.0           NaN           NaN          NaN           NaN   \n",
              " Unnamed: 15    0.0           NaN           NaN          NaN           NaN   \n",
              " Unnamed: 16    0.0           NaN           NaN          NaN           NaN   \n",
              " Unnamed: 17    0.0           NaN           NaN          NaN           NaN   \n",
              " Unnamed: 18    0.0           NaN           NaN          NaN           NaN   \n",
              " Unnamed: 19    0.0           NaN           NaN          NaN           NaN   \n",
              " Unnamed: 20    0.0           NaN           NaN          NaN           NaN   \n",
              " Unnamed: 21    0.0           NaN           NaN          NaN           NaN   \n",
              " Unnamed: 22    0.0           NaN           NaN          NaN           NaN   \n",
              " Unnamed: 23    0.0           NaN           NaN          NaN           NaN   \n",
              " Unnamed: 24    0.0           NaN           NaN          NaN           NaN   \n",
              " Unnamed: 25    0.0           NaN           NaN          NaN           NaN   \n",
              " \n",
              "                       50%           75%           max  \n",
              " LT           1.350000e+02  2.500000e+02  3.422000e+03  \n",
              " LB           2.000000e+02  3.500000e+02  2.000000e+03  \n",
              " KT           4.000000e+00  5.000000e+00  1.000000e+01  \n",
              " KM           3.000000e+00  4.000000e+00  1.000000e+01  \n",
              " garasi       1.000000e+00  2.000000e+00  8.000000e+00  \n",
              " carport      2.000000e+00  2.000000e+00  1.000000e+01  \n",
              " listrik      3.500000e+03  4.425000e+03  6.600000e+04  \n",
              " harga        3.400000e+09  7.250000e+09  1.050000e+11  \n",
              " Unnamed: 14           NaN           NaN           NaN  \n",
              " Unnamed: 15           NaN           NaN           NaN  \n",
              " Unnamed: 16           NaN           NaN           NaN  \n",
              " Unnamed: 17           NaN           NaN           NaN  \n",
              " Unnamed: 18           NaN           NaN           NaN  \n",
              " Unnamed: 19           NaN           NaN           NaN  \n",
              " Unnamed: 20           NaN           NaN           NaN  \n",
              " Unnamed: 21           NaN           NaN           NaN  \n",
              " Unnamed: 22           NaN           NaN           NaN  \n",
              " Unnamed: 23           NaN           NaN           NaN  \n",
              " Unnamed: 24           NaN           NaN           NaN  \n",
              " Unnamed: 25           NaN           NaN           NaN  ,)"
            ]
          },
          "metadata": {},
          "execution_count": 5
        }
      ]
    },
    {
      "cell_type": "code",
      "source": [
        "bogor.describe().transpose()"
      ],
      "metadata": {
        "id": "Dbr2bWumNPF0",
        "colab": {
          "base_uri": "https://localhost:8080/",
          "height": 676
        },
        "outputId": "65f49fae-ea7a-4085-db21-a50f6882ee3a"
      },
      "execution_count": null,
      "outputs": [
        {
          "output_type": "execute_result",
          "data": {
            "text/plain": [
              "             count          mean           std         min          25%  \\\n",
              "LT           193.0  1.435751e+02  1.915762e+02        30.0         66.0   \n",
              "LB           193.0  9.866321e+01  1.258517e+02        21.0         36.0   \n",
              "KT           193.0  2.694301e+00  1.110939e+00         1.0          2.0   \n",
              "KM           193.0  1.797927e+00  1.175087e+00         1.0          1.0   \n",
              "garasi       193.0  1.554404e-01  4.859312e-01         0.0          0.0   \n",
              "carport      193.0  1.310881e+00  9.052715e-01         0.0          1.0   \n",
              "listrik      193.0  2.076166e+03  1.562634e+03       900.0       1300.0   \n",
              "harga        193.0  1.289362e+09  2.115854e+09  65000000.0  399000000.0   \n",
              "Unnamed: 14    0.0           NaN           NaN         NaN          NaN   \n",
              "Unnamed: 15    0.0           NaN           NaN         NaN          NaN   \n",
              "Unnamed: 16    0.0           NaN           NaN         NaN          NaN   \n",
              "Unnamed: 17    0.0           NaN           NaN         NaN          NaN   \n",
              "Unnamed: 18    0.0           NaN           NaN         NaN          NaN   \n",
              "Unnamed: 19    0.0           NaN           NaN         NaN          NaN   \n",
              "Unnamed: 20    0.0           NaN           NaN         NaN          NaN   \n",
              "Unnamed: 21    0.0           NaN           NaN         NaN          NaN   \n",
              "Unnamed: 22    0.0           NaN           NaN         NaN          NaN   \n",
              "Unnamed: 23    0.0           NaN           NaN         NaN          NaN   \n",
              "Unnamed: 24    0.0           NaN           NaN         NaN          NaN   \n",
              "Unnamed: 25    0.0           NaN           NaN         NaN          NaN   \n",
              "\n",
              "                     50%           75%           max  \n",
              "LT                  84.0  1.200000e+02  1.500000e+03  \n",
              "LB                  58.0  9.000000e+01  1.200000e+03  \n",
              "KT                   2.0  3.000000e+00  8.000000e+00  \n",
              "KM                   1.0  2.000000e+00  6.000000e+00  \n",
              "garasi               0.0  0.000000e+00  3.000000e+00  \n",
              "carport              1.0  1.000000e+00  8.000000e+00  \n",
              "listrik           1300.0  2.200000e+03  1.760000e+04  \n",
              "harga        670000000.0  1.250000e+09  1.650000e+10  \n",
              "Unnamed: 14          NaN           NaN           NaN  \n",
              "Unnamed: 15          NaN           NaN           NaN  \n",
              "Unnamed: 16          NaN           NaN           NaN  \n",
              "Unnamed: 17          NaN           NaN           NaN  \n",
              "Unnamed: 18          NaN           NaN           NaN  \n",
              "Unnamed: 19          NaN           NaN           NaN  \n",
              "Unnamed: 20          NaN           NaN           NaN  \n",
              "Unnamed: 21          NaN           NaN           NaN  \n",
              "Unnamed: 22          NaN           NaN           NaN  \n",
              "Unnamed: 23          NaN           NaN           NaN  \n",
              "Unnamed: 24          NaN           NaN           NaN  \n",
              "Unnamed: 25          NaN           NaN           NaN  "
            ],
            "text/html": [
              "\n",
              "  <div id=\"df-91ae1d1a-355b-4148-8072-1dd82f3b87e0\">\n",
              "    <div class=\"colab-df-container\">\n",
              "      <div>\n",
              "<style scoped>\n",
              "    .dataframe tbody tr th:only-of-type {\n",
              "        vertical-align: middle;\n",
              "    }\n",
              "\n",
              "    .dataframe tbody tr th {\n",
              "        vertical-align: top;\n",
              "    }\n",
              "\n",
              "    .dataframe thead th {\n",
              "        text-align: right;\n",
              "    }\n",
              "</style>\n",
              "<table border=\"1\" class=\"dataframe\">\n",
              "  <thead>\n",
              "    <tr style=\"text-align: right;\">\n",
              "      <th></th>\n",
              "      <th>count</th>\n",
              "      <th>mean</th>\n",
              "      <th>std</th>\n",
              "      <th>min</th>\n",
              "      <th>25%</th>\n",
              "      <th>50%</th>\n",
              "      <th>75%</th>\n",
              "      <th>max</th>\n",
              "    </tr>\n",
              "  </thead>\n",
              "  <tbody>\n",
              "    <tr>\n",
              "      <th>LT</th>\n",
              "      <td>193.0</td>\n",
              "      <td>1.435751e+02</td>\n",
              "      <td>1.915762e+02</td>\n",
              "      <td>30.0</td>\n",
              "      <td>66.0</td>\n",
              "      <td>84.0</td>\n",
              "      <td>1.200000e+02</td>\n",
              "      <td>1.500000e+03</td>\n",
              "    </tr>\n",
              "    <tr>\n",
              "      <th>LB</th>\n",
              "      <td>193.0</td>\n",
              "      <td>9.866321e+01</td>\n",
              "      <td>1.258517e+02</td>\n",
              "      <td>21.0</td>\n",
              "      <td>36.0</td>\n",
              "      <td>58.0</td>\n",
              "      <td>9.000000e+01</td>\n",
              "      <td>1.200000e+03</td>\n",
              "    </tr>\n",
              "    <tr>\n",
              "      <th>KT</th>\n",
              "      <td>193.0</td>\n",
              "      <td>2.694301e+00</td>\n",
              "      <td>1.110939e+00</td>\n",
              "      <td>1.0</td>\n",
              "      <td>2.0</td>\n",
              "      <td>2.0</td>\n",
              "      <td>3.000000e+00</td>\n",
              "      <td>8.000000e+00</td>\n",
              "    </tr>\n",
              "    <tr>\n",
              "      <th>KM</th>\n",
              "      <td>193.0</td>\n",
              "      <td>1.797927e+00</td>\n",
              "      <td>1.175087e+00</td>\n",
              "      <td>1.0</td>\n",
              "      <td>1.0</td>\n",
              "      <td>1.0</td>\n",
              "      <td>2.000000e+00</td>\n",
              "      <td>6.000000e+00</td>\n",
              "    </tr>\n",
              "    <tr>\n",
              "      <th>garasi</th>\n",
              "      <td>193.0</td>\n",
              "      <td>1.554404e-01</td>\n",
              "      <td>4.859312e-01</td>\n",
              "      <td>0.0</td>\n",
              "      <td>0.0</td>\n",
              "      <td>0.0</td>\n",
              "      <td>0.000000e+00</td>\n",
              "      <td>3.000000e+00</td>\n",
              "    </tr>\n",
              "    <tr>\n",
              "      <th>carport</th>\n",
              "      <td>193.0</td>\n",
              "      <td>1.310881e+00</td>\n",
              "      <td>9.052715e-01</td>\n",
              "      <td>0.0</td>\n",
              "      <td>1.0</td>\n",
              "      <td>1.0</td>\n",
              "      <td>1.000000e+00</td>\n",
              "      <td>8.000000e+00</td>\n",
              "    </tr>\n",
              "    <tr>\n",
              "      <th>listrik</th>\n",
              "      <td>193.0</td>\n",
              "      <td>2.076166e+03</td>\n",
              "      <td>1.562634e+03</td>\n",
              "      <td>900.0</td>\n",
              "      <td>1300.0</td>\n",
              "      <td>1300.0</td>\n",
              "      <td>2.200000e+03</td>\n",
              "      <td>1.760000e+04</td>\n",
              "    </tr>\n",
              "    <tr>\n",
              "      <th>harga</th>\n",
              "      <td>193.0</td>\n",
              "      <td>1.289362e+09</td>\n",
              "      <td>2.115854e+09</td>\n",
              "      <td>65000000.0</td>\n",
              "      <td>399000000.0</td>\n",
              "      <td>670000000.0</td>\n",
              "      <td>1.250000e+09</td>\n",
              "      <td>1.650000e+10</td>\n",
              "    </tr>\n",
              "    <tr>\n",
              "      <th>Unnamed: 14</th>\n",
              "      <td>0.0</td>\n",
              "      <td>NaN</td>\n",
              "      <td>NaN</td>\n",
              "      <td>NaN</td>\n",
              "      <td>NaN</td>\n",
              "      <td>NaN</td>\n",
              "      <td>NaN</td>\n",
              "      <td>NaN</td>\n",
              "    </tr>\n",
              "    <tr>\n",
              "      <th>Unnamed: 15</th>\n",
              "      <td>0.0</td>\n",
              "      <td>NaN</td>\n",
              "      <td>NaN</td>\n",
              "      <td>NaN</td>\n",
              "      <td>NaN</td>\n",
              "      <td>NaN</td>\n",
              "      <td>NaN</td>\n",
              "      <td>NaN</td>\n",
              "    </tr>\n",
              "    <tr>\n",
              "      <th>Unnamed: 16</th>\n",
              "      <td>0.0</td>\n",
              "      <td>NaN</td>\n",
              "      <td>NaN</td>\n",
              "      <td>NaN</td>\n",
              "      <td>NaN</td>\n",
              "      <td>NaN</td>\n",
              "      <td>NaN</td>\n",
              "      <td>NaN</td>\n",
              "    </tr>\n",
              "    <tr>\n",
              "      <th>Unnamed: 17</th>\n",
              "      <td>0.0</td>\n",
              "      <td>NaN</td>\n",
              "      <td>NaN</td>\n",
              "      <td>NaN</td>\n",
              "      <td>NaN</td>\n",
              "      <td>NaN</td>\n",
              "      <td>NaN</td>\n",
              "      <td>NaN</td>\n",
              "    </tr>\n",
              "    <tr>\n",
              "      <th>Unnamed: 18</th>\n",
              "      <td>0.0</td>\n",
              "      <td>NaN</td>\n",
              "      <td>NaN</td>\n",
              "      <td>NaN</td>\n",
              "      <td>NaN</td>\n",
              "      <td>NaN</td>\n",
              "      <td>NaN</td>\n",
              "      <td>NaN</td>\n",
              "    </tr>\n",
              "    <tr>\n",
              "      <th>Unnamed: 19</th>\n",
              "      <td>0.0</td>\n",
              "      <td>NaN</td>\n",
              "      <td>NaN</td>\n",
              "      <td>NaN</td>\n",
              "      <td>NaN</td>\n",
              "      <td>NaN</td>\n",
              "      <td>NaN</td>\n",
              "      <td>NaN</td>\n",
              "    </tr>\n",
              "    <tr>\n",
              "      <th>Unnamed: 20</th>\n",
              "      <td>0.0</td>\n",
              "      <td>NaN</td>\n",
              "      <td>NaN</td>\n",
              "      <td>NaN</td>\n",
              "      <td>NaN</td>\n",
              "      <td>NaN</td>\n",
              "      <td>NaN</td>\n",
              "      <td>NaN</td>\n",
              "    </tr>\n",
              "    <tr>\n",
              "      <th>Unnamed: 21</th>\n",
              "      <td>0.0</td>\n",
              "      <td>NaN</td>\n",
              "      <td>NaN</td>\n",
              "      <td>NaN</td>\n",
              "      <td>NaN</td>\n",
              "      <td>NaN</td>\n",
              "      <td>NaN</td>\n",
              "      <td>NaN</td>\n",
              "    </tr>\n",
              "    <tr>\n",
              "      <th>Unnamed: 22</th>\n",
              "      <td>0.0</td>\n",
              "      <td>NaN</td>\n",
              "      <td>NaN</td>\n",
              "      <td>NaN</td>\n",
              "      <td>NaN</td>\n",
              "      <td>NaN</td>\n",
              "      <td>NaN</td>\n",
              "      <td>NaN</td>\n",
              "    </tr>\n",
              "    <tr>\n",
              "      <th>Unnamed: 23</th>\n",
              "      <td>0.0</td>\n",
              "      <td>NaN</td>\n",
              "      <td>NaN</td>\n",
              "      <td>NaN</td>\n",
              "      <td>NaN</td>\n",
              "      <td>NaN</td>\n",
              "      <td>NaN</td>\n",
              "      <td>NaN</td>\n",
              "    </tr>\n",
              "    <tr>\n",
              "      <th>Unnamed: 24</th>\n",
              "      <td>0.0</td>\n",
              "      <td>NaN</td>\n",
              "      <td>NaN</td>\n",
              "      <td>NaN</td>\n",
              "      <td>NaN</td>\n",
              "      <td>NaN</td>\n",
              "      <td>NaN</td>\n",
              "      <td>NaN</td>\n",
              "    </tr>\n",
              "    <tr>\n",
              "      <th>Unnamed: 25</th>\n",
              "      <td>0.0</td>\n",
              "      <td>NaN</td>\n",
              "      <td>NaN</td>\n",
              "      <td>NaN</td>\n",
              "      <td>NaN</td>\n",
              "      <td>NaN</td>\n",
              "      <td>NaN</td>\n",
              "      <td>NaN</td>\n",
              "    </tr>\n",
              "  </tbody>\n",
              "</table>\n",
              "</div>\n",
              "      <button class=\"colab-df-convert\" onclick=\"convertToInteractive('df-91ae1d1a-355b-4148-8072-1dd82f3b87e0')\"\n",
              "              title=\"Convert this dataframe to an interactive table.\"\n",
              "              style=\"display:none;\">\n",
              "        \n",
              "  <svg xmlns=\"http://www.w3.org/2000/svg\" height=\"24px\"viewBox=\"0 0 24 24\"\n",
              "       width=\"24px\">\n",
              "    <path d=\"M0 0h24v24H0V0z\" fill=\"none\"/>\n",
              "    <path d=\"M18.56 5.44l.94 2.06.94-2.06 2.06-.94-2.06-.94-.94-2.06-.94 2.06-2.06.94zm-11 1L8.5 8.5l.94-2.06 2.06-.94-2.06-.94L8.5 2.5l-.94 2.06-2.06.94zm10 10l.94 2.06.94-2.06 2.06-.94-2.06-.94-.94-2.06-.94 2.06-2.06.94z\"/><path d=\"M17.41 7.96l-1.37-1.37c-.4-.4-.92-.59-1.43-.59-.52 0-1.04.2-1.43.59L10.3 9.45l-7.72 7.72c-.78.78-.78 2.05 0 2.83L4 21.41c.39.39.9.59 1.41.59.51 0 1.02-.2 1.41-.59l7.78-7.78 2.81-2.81c.8-.78.8-2.07 0-2.86zM5.41 20L4 18.59l7.72-7.72 1.47 1.35L5.41 20z\"/>\n",
              "  </svg>\n",
              "      </button>\n",
              "      \n",
              "  <style>\n",
              "    .colab-df-container {\n",
              "      display:flex;\n",
              "      flex-wrap:wrap;\n",
              "      gap: 12px;\n",
              "    }\n",
              "\n",
              "    .colab-df-convert {\n",
              "      background-color: #E8F0FE;\n",
              "      border: none;\n",
              "      border-radius: 50%;\n",
              "      cursor: pointer;\n",
              "      display: none;\n",
              "      fill: #1967D2;\n",
              "      height: 32px;\n",
              "      padding: 0 0 0 0;\n",
              "      width: 32px;\n",
              "    }\n",
              "\n",
              "    .colab-df-convert:hover {\n",
              "      background-color: #E2EBFA;\n",
              "      box-shadow: 0px 1px 2px rgba(60, 64, 67, 0.3), 0px 1px 3px 1px rgba(60, 64, 67, 0.15);\n",
              "      fill: #174EA6;\n",
              "    }\n",
              "\n",
              "    [theme=dark] .colab-df-convert {\n",
              "      background-color: #3B4455;\n",
              "      fill: #D2E3FC;\n",
              "    }\n",
              "\n",
              "    [theme=dark] .colab-df-convert:hover {\n",
              "      background-color: #434B5C;\n",
              "      box-shadow: 0px 1px 3px 1px rgba(0, 0, 0, 0.15);\n",
              "      filter: drop-shadow(0px 1px 2px rgba(0, 0, 0, 0.3));\n",
              "      fill: #FFFFFF;\n",
              "    }\n",
              "  </style>\n",
              "\n",
              "      <script>\n",
              "        const buttonEl =\n",
              "          document.querySelector('#df-91ae1d1a-355b-4148-8072-1dd82f3b87e0 button.colab-df-convert');\n",
              "        buttonEl.style.display =\n",
              "          google.colab.kernel.accessAllowed ? 'block' : 'none';\n",
              "\n",
              "        async function convertToInteractive(key) {\n",
              "          const element = document.querySelector('#df-91ae1d1a-355b-4148-8072-1dd82f3b87e0');\n",
              "          const dataTable =\n",
              "            await google.colab.kernel.invokeFunction('convertToInteractive',\n",
              "                                                     [key], {});\n",
              "          if (!dataTable) return;\n",
              "\n",
              "          const docLinkHtml = 'Like what you see? Visit the ' +\n",
              "            '<a target=\"_blank\" href=https://colab.research.google.com/notebooks/data_table.ipynb>data table notebook</a>'\n",
              "            + ' to learn more about interactive tables.';\n",
              "          element.innerHTML = '';\n",
              "          dataTable['output_type'] = 'display_data';\n",
              "          await google.colab.output.renderOutput(dataTable, element);\n",
              "          const docLink = document.createElement('div');\n",
              "          docLink.innerHTML = docLinkHtml;\n",
              "          element.appendChild(docLink);\n",
              "        }\n",
              "      </script>\n",
              "    </div>\n",
              "  </div>\n",
              "  "
            ]
          },
          "metadata": {},
          "execution_count": 6
        }
      ]
    },
    {
      "cell_type": "code",
      "source": [
        "bekasi.describe().transpose()"
      ],
      "metadata": {
        "id": "tSqjeBHJNQAr",
        "colab": {
          "base_uri": "https://localhost:8080/",
          "height": 676
        },
        "outputId": "d3dd4022-ecb7-435f-9f04-d4b2e06905b3"
      },
      "execution_count": null,
      "outputs": [
        {
          "output_type": "execute_result",
          "data": {
            "text/plain": [
              "             count          mean           std          min          25%  \\\n",
              "LT           107.0  1.088224e+02  5.916491e+01         36.0         72.0   \n",
              "LB           107.0  1.106355e+02  7.175527e+01         30.0         60.0   \n",
              "KT           107.0  2.962617e+00  1.027226e+00          1.0          2.0   \n",
              "KM           106.0  1.943396e+00  8.488669e-01          1.0          1.0   \n",
              "garasi        33.0  1.090909e+00  2.919371e-01          1.0          1.0   \n",
              "carport       81.0  1.086420e+00  2.827336e-01          1.0          1.0   \n",
              "listrik      101.0  2.056436e+03  9.695789e+02        900.0       1300.0   \n",
              "harga        107.0  1.074823e+09  7.516152e+08  160000000.0  580500000.0   \n",
              "Unnamed: 14    0.0           NaN           NaN          NaN          NaN   \n",
              "Unnamed: 15    0.0           NaN           NaN          NaN          NaN   \n",
              "Unnamed: 16    0.0           NaN           NaN          NaN          NaN   \n",
              "Unnamed: 17    0.0           NaN           NaN          NaN          NaN   \n",
              "Unnamed: 18    0.0           NaN           NaN          NaN          NaN   \n",
              "Unnamed: 19    0.0           NaN           NaN          NaN          NaN   \n",
              "Unnamed: 20    0.0           NaN           NaN          NaN          NaN   \n",
              "Unnamed: 21    0.0           NaN           NaN          NaN          NaN   \n",
              "Unnamed: 22    0.0           NaN           NaN          NaN          NaN   \n",
              "Unnamed: 23    0.0           NaN           NaN          NaN          NaN   \n",
              "Unnamed: 24    0.0           NaN           NaN          NaN          NaN   \n",
              "Unnamed: 25    0.0           NaN           NaN          NaN          NaN   \n",
              "\n",
              "                     50%           75%           max  \n",
              "LT                  91.0  1.305000e+02  3.640000e+02  \n",
              "LB                  90.0  1.440000e+02  4.940000e+02  \n",
              "KT                   3.0  4.000000e+00  7.000000e+00  \n",
              "KM                   2.0  2.750000e+00  4.000000e+00  \n",
              "garasi               1.0  1.000000e+00  2.000000e+00  \n",
              "carport              1.0  1.000000e+00  2.000000e+00  \n",
              "listrik           2200.0  2.200000e+03  5.500000e+03  \n",
              "harga        920000000.0  1.350000e+09  4.500000e+09  \n",
              "Unnamed: 14          NaN           NaN           NaN  \n",
              "Unnamed: 15          NaN           NaN           NaN  \n",
              "Unnamed: 16          NaN           NaN           NaN  \n",
              "Unnamed: 17          NaN           NaN           NaN  \n",
              "Unnamed: 18          NaN           NaN           NaN  \n",
              "Unnamed: 19          NaN           NaN           NaN  \n",
              "Unnamed: 20          NaN           NaN           NaN  \n",
              "Unnamed: 21          NaN           NaN           NaN  \n",
              "Unnamed: 22          NaN           NaN           NaN  \n",
              "Unnamed: 23          NaN           NaN           NaN  \n",
              "Unnamed: 24          NaN           NaN           NaN  \n",
              "Unnamed: 25          NaN           NaN           NaN  "
            ],
            "text/html": [
              "\n",
              "  <div id=\"df-bb935a5a-5586-4317-a765-0b8c87b0b90f\">\n",
              "    <div class=\"colab-df-container\">\n",
              "      <div>\n",
              "<style scoped>\n",
              "    .dataframe tbody tr th:only-of-type {\n",
              "        vertical-align: middle;\n",
              "    }\n",
              "\n",
              "    .dataframe tbody tr th {\n",
              "        vertical-align: top;\n",
              "    }\n",
              "\n",
              "    .dataframe thead th {\n",
              "        text-align: right;\n",
              "    }\n",
              "</style>\n",
              "<table border=\"1\" class=\"dataframe\">\n",
              "  <thead>\n",
              "    <tr style=\"text-align: right;\">\n",
              "      <th></th>\n",
              "      <th>count</th>\n",
              "      <th>mean</th>\n",
              "      <th>std</th>\n",
              "      <th>min</th>\n",
              "      <th>25%</th>\n",
              "      <th>50%</th>\n",
              "      <th>75%</th>\n",
              "      <th>max</th>\n",
              "    </tr>\n",
              "  </thead>\n",
              "  <tbody>\n",
              "    <tr>\n",
              "      <th>LT</th>\n",
              "      <td>107.0</td>\n",
              "      <td>1.088224e+02</td>\n",
              "      <td>5.916491e+01</td>\n",
              "      <td>36.0</td>\n",
              "      <td>72.0</td>\n",
              "      <td>91.0</td>\n",
              "      <td>1.305000e+02</td>\n",
              "      <td>3.640000e+02</td>\n",
              "    </tr>\n",
              "    <tr>\n",
              "      <th>LB</th>\n",
              "      <td>107.0</td>\n",
              "      <td>1.106355e+02</td>\n",
              "      <td>7.175527e+01</td>\n",
              "      <td>30.0</td>\n",
              "      <td>60.0</td>\n",
              "      <td>90.0</td>\n",
              "      <td>1.440000e+02</td>\n",
              "      <td>4.940000e+02</td>\n",
              "    </tr>\n",
              "    <tr>\n",
              "      <th>KT</th>\n",
              "      <td>107.0</td>\n",
              "      <td>2.962617e+00</td>\n",
              "      <td>1.027226e+00</td>\n",
              "      <td>1.0</td>\n",
              "      <td>2.0</td>\n",
              "      <td>3.0</td>\n",
              "      <td>4.000000e+00</td>\n",
              "      <td>7.000000e+00</td>\n",
              "    </tr>\n",
              "    <tr>\n",
              "      <th>KM</th>\n",
              "      <td>106.0</td>\n",
              "      <td>1.943396e+00</td>\n",
              "      <td>8.488669e-01</td>\n",
              "      <td>1.0</td>\n",
              "      <td>1.0</td>\n",
              "      <td>2.0</td>\n",
              "      <td>2.750000e+00</td>\n",
              "      <td>4.000000e+00</td>\n",
              "    </tr>\n",
              "    <tr>\n",
              "      <th>garasi</th>\n",
              "      <td>33.0</td>\n",
              "      <td>1.090909e+00</td>\n",
              "      <td>2.919371e-01</td>\n",
              "      <td>1.0</td>\n",
              "      <td>1.0</td>\n",
              "      <td>1.0</td>\n",
              "      <td>1.000000e+00</td>\n",
              "      <td>2.000000e+00</td>\n",
              "    </tr>\n",
              "    <tr>\n",
              "      <th>carport</th>\n",
              "      <td>81.0</td>\n",
              "      <td>1.086420e+00</td>\n",
              "      <td>2.827336e-01</td>\n",
              "      <td>1.0</td>\n",
              "      <td>1.0</td>\n",
              "      <td>1.0</td>\n",
              "      <td>1.000000e+00</td>\n",
              "      <td>2.000000e+00</td>\n",
              "    </tr>\n",
              "    <tr>\n",
              "      <th>listrik</th>\n",
              "      <td>101.0</td>\n",
              "      <td>2.056436e+03</td>\n",
              "      <td>9.695789e+02</td>\n",
              "      <td>900.0</td>\n",
              "      <td>1300.0</td>\n",
              "      <td>2200.0</td>\n",
              "      <td>2.200000e+03</td>\n",
              "      <td>5.500000e+03</td>\n",
              "    </tr>\n",
              "    <tr>\n",
              "      <th>harga</th>\n",
              "      <td>107.0</td>\n",
              "      <td>1.074823e+09</td>\n",
              "      <td>7.516152e+08</td>\n",
              "      <td>160000000.0</td>\n",
              "      <td>580500000.0</td>\n",
              "      <td>920000000.0</td>\n",
              "      <td>1.350000e+09</td>\n",
              "      <td>4.500000e+09</td>\n",
              "    </tr>\n",
              "    <tr>\n",
              "      <th>Unnamed: 14</th>\n",
              "      <td>0.0</td>\n",
              "      <td>NaN</td>\n",
              "      <td>NaN</td>\n",
              "      <td>NaN</td>\n",
              "      <td>NaN</td>\n",
              "      <td>NaN</td>\n",
              "      <td>NaN</td>\n",
              "      <td>NaN</td>\n",
              "    </tr>\n",
              "    <tr>\n",
              "      <th>Unnamed: 15</th>\n",
              "      <td>0.0</td>\n",
              "      <td>NaN</td>\n",
              "      <td>NaN</td>\n",
              "      <td>NaN</td>\n",
              "      <td>NaN</td>\n",
              "      <td>NaN</td>\n",
              "      <td>NaN</td>\n",
              "      <td>NaN</td>\n",
              "    </tr>\n",
              "    <tr>\n",
              "      <th>Unnamed: 16</th>\n",
              "      <td>0.0</td>\n",
              "      <td>NaN</td>\n",
              "      <td>NaN</td>\n",
              "      <td>NaN</td>\n",
              "      <td>NaN</td>\n",
              "      <td>NaN</td>\n",
              "      <td>NaN</td>\n",
              "      <td>NaN</td>\n",
              "    </tr>\n",
              "    <tr>\n",
              "      <th>Unnamed: 17</th>\n",
              "      <td>0.0</td>\n",
              "      <td>NaN</td>\n",
              "      <td>NaN</td>\n",
              "      <td>NaN</td>\n",
              "      <td>NaN</td>\n",
              "      <td>NaN</td>\n",
              "      <td>NaN</td>\n",
              "      <td>NaN</td>\n",
              "    </tr>\n",
              "    <tr>\n",
              "      <th>Unnamed: 18</th>\n",
              "      <td>0.0</td>\n",
              "      <td>NaN</td>\n",
              "      <td>NaN</td>\n",
              "      <td>NaN</td>\n",
              "      <td>NaN</td>\n",
              "      <td>NaN</td>\n",
              "      <td>NaN</td>\n",
              "      <td>NaN</td>\n",
              "    </tr>\n",
              "    <tr>\n",
              "      <th>Unnamed: 19</th>\n",
              "      <td>0.0</td>\n",
              "      <td>NaN</td>\n",
              "      <td>NaN</td>\n",
              "      <td>NaN</td>\n",
              "      <td>NaN</td>\n",
              "      <td>NaN</td>\n",
              "      <td>NaN</td>\n",
              "      <td>NaN</td>\n",
              "    </tr>\n",
              "    <tr>\n",
              "      <th>Unnamed: 20</th>\n",
              "      <td>0.0</td>\n",
              "      <td>NaN</td>\n",
              "      <td>NaN</td>\n",
              "      <td>NaN</td>\n",
              "      <td>NaN</td>\n",
              "      <td>NaN</td>\n",
              "      <td>NaN</td>\n",
              "      <td>NaN</td>\n",
              "    </tr>\n",
              "    <tr>\n",
              "      <th>Unnamed: 21</th>\n",
              "      <td>0.0</td>\n",
              "      <td>NaN</td>\n",
              "      <td>NaN</td>\n",
              "      <td>NaN</td>\n",
              "      <td>NaN</td>\n",
              "      <td>NaN</td>\n",
              "      <td>NaN</td>\n",
              "      <td>NaN</td>\n",
              "    </tr>\n",
              "    <tr>\n",
              "      <th>Unnamed: 22</th>\n",
              "      <td>0.0</td>\n",
              "      <td>NaN</td>\n",
              "      <td>NaN</td>\n",
              "      <td>NaN</td>\n",
              "      <td>NaN</td>\n",
              "      <td>NaN</td>\n",
              "      <td>NaN</td>\n",
              "      <td>NaN</td>\n",
              "    </tr>\n",
              "    <tr>\n",
              "      <th>Unnamed: 23</th>\n",
              "      <td>0.0</td>\n",
              "      <td>NaN</td>\n",
              "      <td>NaN</td>\n",
              "      <td>NaN</td>\n",
              "      <td>NaN</td>\n",
              "      <td>NaN</td>\n",
              "      <td>NaN</td>\n",
              "      <td>NaN</td>\n",
              "    </tr>\n",
              "    <tr>\n",
              "      <th>Unnamed: 24</th>\n",
              "      <td>0.0</td>\n",
              "      <td>NaN</td>\n",
              "      <td>NaN</td>\n",
              "      <td>NaN</td>\n",
              "      <td>NaN</td>\n",
              "      <td>NaN</td>\n",
              "      <td>NaN</td>\n",
              "      <td>NaN</td>\n",
              "    </tr>\n",
              "    <tr>\n",
              "      <th>Unnamed: 25</th>\n",
              "      <td>0.0</td>\n",
              "      <td>NaN</td>\n",
              "      <td>NaN</td>\n",
              "      <td>NaN</td>\n",
              "      <td>NaN</td>\n",
              "      <td>NaN</td>\n",
              "      <td>NaN</td>\n",
              "      <td>NaN</td>\n",
              "    </tr>\n",
              "  </tbody>\n",
              "</table>\n",
              "</div>\n",
              "      <button class=\"colab-df-convert\" onclick=\"convertToInteractive('df-bb935a5a-5586-4317-a765-0b8c87b0b90f')\"\n",
              "              title=\"Convert this dataframe to an interactive table.\"\n",
              "              style=\"display:none;\">\n",
              "        \n",
              "  <svg xmlns=\"http://www.w3.org/2000/svg\" height=\"24px\"viewBox=\"0 0 24 24\"\n",
              "       width=\"24px\">\n",
              "    <path d=\"M0 0h24v24H0V0z\" fill=\"none\"/>\n",
              "    <path d=\"M18.56 5.44l.94 2.06.94-2.06 2.06-.94-2.06-.94-.94-2.06-.94 2.06-2.06.94zm-11 1L8.5 8.5l.94-2.06 2.06-.94-2.06-.94L8.5 2.5l-.94 2.06-2.06.94zm10 10l.94 2.06.94-2.06 2.06-.94-2.06-.94-.94-2.06-.94 2.06-2.06.94z\"/><path d=\"M17.41 7.96l-1.37-1.37c-.4-.4-.92-.59-1.43-.59-.52 0-1.04.2-1.43.59L10.3 9.45l-7.72 7.72c-.78.78-.78 2.05 0 2.83L4 21.41c.39.39.9.59 1.41.59.51 0 1.02-.2 1.41-.59l7.78-7.78 2.81-2.81c.8-.78.8-2.07 0-2.86zM5.41 20L4 18.59l7.72-7.72 1.47 1.35L5.41 20z\"/>\n",
              "  </svg>\n",
              "      </button>\n",
              "      \n",
              "  <style>\n",
              "    .colab-df-container {\n",
              "      display:flex;\n",
              "      flex-wrap:wrap;\n",
              "      gap: 12px;\n",
              "    }\n",
              "\n",
              "    .colab-df-convert {\n",
              "      background-color: #E8F0FE;\n",
              "      border: none;\n",
              "      border-radius: 50%;\n",
              "      cursor: pointer;\n",
              "      display: none;\n",
              "      fill: #1967D2;\n",
              "      height: 32px;\n",
              "      padding: 0 0 0 0;\n",
              "      width: 32px;\n",
              "    }\n",
              "\n",
              "    .colab-df-convert:hover {\n",
              "      background-color: #E2EBFA;\n",
              "      box-shadow: 0px 1px 2px rgba(60, 64, 67, 0.3), 0px 1px 3px 1px rgba(60, 64, 67, 0.15);\n",
              "      fill: #174EA6;\n",
              "    }\n",
              "\n",
              "    [theme=dark] .colab-df-convert {\n",
              "      background-color: #3B4455;\n",
              "      fill: #D2E3FC;\n",
              "    }\n",
              "\n",
              "    [theme=dark] .colab-df-convert:hover {\n",
              "      background-color: #434B5C;\n",
              "      box-shadow: 0px 1px 3px 1px rgba(0, 0, 0, 0.15);\n",
              "      filter: drop-shadow(0px 1px 2px rgba(0, 0, 0, 0.3));\n",
              "      fill: #FFFFFF;\n",
              "    }\n",
              "  </style>\n",
              "\n",
              "      <script>\n",
              "        const buttonEl =\n",
              "          document.querySelector('#df-bb935a5a-5586-4317-a765-0b8c87b0b90f button.colab-df-convert');\n",
              "        buttonEl.style.display =\n",
              "          google.colab.kernel.accessAllowed ? 'block' : 'none';\n",
              "\n",
              "        async function convertToInteractive(key) {\n",
              "          const element = document.querySelector('#df-bb935a5a-5586-4317-a765-0b8c87b0b90f');\n",
              "          const dataTable =\n",
              "            await google.colab.kernel.invokeFunction('convertToInteractive',\n",
              "                                                     [key], {});\n",
              "          if (!dataTable) return;\n",
              "\n",
              "          const docLinkHtml = 'Like what you see? Visit the ' +\n",
              "            '<a target=\"_blank\" href=https://colab.research.google.com/notebooks/data_table.ipynb>data table notebook</a>'\n",
              "            + ' to learn more about interactive tables.';\n",
              "          element.innerHTML = '';\n",
              "          dataTable['output_type'] = 'display_data';\n",
              "          await google.colab.output.renderOutput(dataTable, element);\n",
              "          const docLink = document.createElement('div');\n",
              "          docLink.innerHTML = docLinkHtml;\n",
              "          element.appendChild(docLink);\n",
              "        }\n",
              "      </script>\n",
              "    </div>\n",
              "  </div>\n",
              "  "
            ]
          },
          "metadata": {},
          "execution_count": 7
        }
      ]
    },
    {
      "cell_type": "markdown",
      "source": [
        "Melakukan statistika deskriptif masing masing kota untuk menggambarkan jumlah, rata rata, standar deviasi, kuartil 1, 2, dan 3, minimal serta maksimal. Masing masing komponen mmemberikan gambaran mengenai variabel atau data yang digunakan dan diproses."
      ],
      "metadata": {
        "id": "K125tzZrc8ik"
      }
    },
    {
      "cell_type": "markdown",
      "source": [
        "# Preprocessing"
      ],
      "metadata": {
        "id": "bdBw8gPApfHY"
      }
    },
    {
      "cell_type": "markdown",
      "source": [
        "**2. Data Preprocessing**"
      ],
      "metadata": {
        "id": "gCr3bvksc_yW"
      }
    },
    {
      "cell_type": "code",
      "execution_count": null,
      "metadata": {
        "id": "BNVvZU1iFRgE"
      },
      "outputs": [],
      "source": [
        "#menghapus kolom yang berisi data NaN\n",
        "jakarta.drop([\"created_at\", \"hadap\", \"Unnamed: 14\",'Unnamed: 14', 'Unnamed: 15', 'Unnamed: 16', 'Unnamed: 17','URL','sertifikat', 'deskripsi','Unnamed: 18', 'Unnamed: 19', 'Unnamed: 20', 'Unnamed: 21', 'Unnamed: 22', 'Unnamed: 23', 'Unnamed: 24', 'Unnamed: 25'], axis=1, inplace=True)\n"
      ]
    },
    {
      "cell_type": "code",
      "source": [
        "bogor.drop([\"created_at\", \"hadap\",\"Unnamed: 14\",'Unnamed: 14', 'Unnamed: 15', 'Unnamed: 16', 'Unnamed: 17','Unnamed: 18', 'Unnamed: 19', 'Unnamed: 20','URL','sertifikat', 'deskripsi', 'Unnamed: 21', 'Unnamed: 22', 'Unnamed: 23', 'Unnamed: 24', 'Unnamed: 25'], axis=1, inplace=True)\n"
      ],
      "metadata": {
        "id": "Scat_OpzQotY"
      },
      "execution_count": null,
      "outputs": []
    },
    {
      "cell_type": "code",
      "source": [
        "bekasi.drop([\"created_at\", \"hadap\",\"Unnamed: 14\",'Unnamed: 14','URL','sertifikat', 'deskripsi', 'Unnamed: 15', 'Unnamed: 16', 'Unnamed: 17','Unnamed: 18', 'Unnamed: 19', 'Unnamed: 20', 'Unnamed: 21', 'Unnamed: 22', 'Unnamed: 23', 'Unnamed: 24', 'Unnamed: 25'], axis=1, inplace=True)\n"
      ],
      "metadata": {
        "id": "CLX0FYw4Qoj8"
      },
      "execution_count": null,
      "outputs": []
    },
    {
      "cell_type": "code",
      "source": [
        "jakarta.drop_duplicates(inplace = True)\n",
        "print(jakarta.shape)\n",
        "jakarta.duplicated().sum()"
      ],
      "metadata": {
        "id": "f2MZI8LHSW_4",
        "colab": {
          "base_uri": "https://localhost:8080/"
        },
        "outputId": "0d9a246f-dc01-43d0-8fc9-2e7e3cecf448"
      },
      "execution_count": null,
      "outputs": [
        {
          "output_type": "stream",
          "name": "stdout",
          "text": [
            "(122, 9)\n"
          ]
        },
        {
          "output_type": "execute_result",
          "data": {
            "text/plain": [
              "0"
            ]
          },
          "metadata": {},
          "execution_count": 11
        }
      ]
    },
    {
      "cell_type": "markdown",
      "source": [
        "# Visualisasi"
      ],
      "metadata": {
        "id": "ypWc_bIQpy6W"
      }
    },
    {
      "cell_type": "markdown",
      "source": [
        "Untuk merapikan data yang berisikan NaN kita menghapus kolom yang berisikan data NaN dengan menggunakan fungsi drop_duplicates. Selanjutnya kita menggunakan fungsi isnull().sum() untuk merubah data Nan menjadi 0"
      ],
      "metadata": {
        "id": "RQkOSERWdl9z"
      }
    },
    {
      "cell_type": "code",
      "source": [
        "null = jakarta[\"KT\"].isnull()\n",
        "jakarta[\"KT\"] = jakarta[\"KT\"].replace(np.nan, 0)\n",
        "null = jakarta[\"KM\"].isnull()\n",
        "jakarta[\"KM\"] = jakarta[\"KM\"].replace(np.nan, 0)\n",
        "null = jakarta[\"garasi\"].isnull()\n",
        "jakarta[\"garasi\"] = jakarta[\"garasi\"].replace(np.nan, 0)\n",
        "null = jakarta[\"carport\"].isnull()\n",
        "jakarta[\"carport\"] = jakarta[\"carport\"].replace(np.nan, 0)\n",
        "null = jakarta[\"listrik\"].isnull()\n",
        "jakarta[\"listrik\"] = jakarta[\"listrik\"].replace(np.nan, 0)\n",
        "\n",
        "\n",
        "mean = jakarta[\"LB\"].mean()\n",
        "jakarta[\"LB\"] = jakarta[\"LB\"].replace(np.nan, mean)\n",
        "mean = jakarta[\"LT\"].mean()\n",
        "jakarta[\"LT\"] = jakarta[\"LT\"].replace(np.nan, mean)\n",
        "mean = jakarta[\"harga\"].mean()\n",
        "jakarta[\"harga\"] = jakarta[\"harga\"].replace(np.nan, mean)\n",
        "\n",
        "\n",
        "jakarta"
      ],
      "metadata": {
        "id": "EhdlP0DITY5n"
      },
      "execution_count": null,
      "outputs": []
    },
    {
      "cell_type": "code",
      "source": [
        "null = bogor[\"KT\"].isnull()\n",
        "bogor[\"KT\"] = bogor[\"KT\"].replace(np.nan, 0)\n",
        "null = bogor[\"KM\"].isnull()\n",
        "bogor[\"KM\"] = bogor[\"KM\"].replace(np.nan, 0)\n",
        "null = bogor[\"garasi\"].isnull()\n",
        "bogor[\"garasi\"] = bogor[\"garasi\"].replace(np.nan, 0)\n",
        "null = bogor[\"carport\"].isnull()\n",
        "bogor[\"carport\"] = bogor[\"carport\"].replace(np.nan, 0)\n",
        "null = bogor[\"listrik\"].isnull()\n",
        "bogor[\"listrik\"] = bogor[\"listrik\"].replace(np.nan, 0)\n",
        "\n",
        "\n",
        "mean = bogor[\"LB\"].mean()\n",
        "bogor[\"LB\"] = bogor[\"LB\"].replace(np.nan, mean)\n",
        "mean = bogor[\"LT\"].mean()\n",
        "bogor[\"LT\"] = bogor[\"LT\"].replace(np.nan, mean)\n",
        "mean = bogor[\"harga\"].mean()\n",
        "bogor[\"harga\"] = bogor[\"harga\"].replace(np.nan, mean)\n",
        "\n",
        "\n",
        "bogor"
      ],
      "metadata": {
        "id": "hb78qkMavbOX"
      },
      "execution_count": null,
      "outputs": []
    },
    {
      "cell_type": "code",
      "source": [
        "null = bekasi[\"KT\"].isnull()\n",
        "bekasi[\"KT\"] = bekasi[\"KT\"].replace(np.nan, 0)\n",
        "null = bekasi[\"KM\"].isnull()\n",
        "bekasi[\"KM\"] = bekasi[\"KM\"].replace(np.nan, 0)\n",
        "null = bekasi[\"garasi\"].isnull()\n",
        "bekasi[\"garasi\"] = bekasi[\"garasi\"].replace(np.nan, 0)\n",
        "null = bekasi[\"carport\"].isnull()\n",
        "bekasi[\"carport\"] = bekasi[\"carport\"].replace(np.nan, 0)\n",
        "null = bekasi[\"listrik\"].isnull()\n",
        "bekasi[\"listrik\"] = bekasi[\"listrik\"].replace(np.nan, 0)\n",
        "\n",
        "\n",
        "mean = bekasi[\"LB\"].mean()\n",
        "bekasi[\"LB\"] = bekasi[\"LB\"].replace(np.nan, mean)\n",
        "mean = bekasi[\"LT\"].mean()\n",
        "bekasi[\"LT\"] = bekasi[\"LT\"].replace(np.nan, mean)\n",
        "mean = bekasi[\"harga\"].mean()\n",
        "bekasi[\"harga\"] = bekasi[\"harga\"].replace(np.nan, mean)\n",
        "\n",
        "\n",
        "bekasi"
      ],
      "metadata": {
        "id": "R_pmsAF3viTP"
      },
      "execution_count": null,
      "outputs": []
    },
    {
      "cell_type": "code",
      "source": [
        "p= sns.catplot(x=\"listrik\", y=\"LB\", hue=\"lokasi\", data=jakarta)"
      ],
      "metadata": {
        "colab": {
          "base_uri": "https://localhost:8080/",
          "height": 369
        },
        "id": "jzJby0ixsowi",
        "outputId": "5f47ca21-5e61-4a10-a4d5-7f42ff36ccfc"
      },
      "execution_count": null,
      "outputs": [
        {
          "output_type": "display_data",
          "data": {
            "text/plain": [
              "<Figure size 483.6x360 with 1 Axes>"
            ],
            "image/png": "[encoded data removed]"
          },
          "metadata": {
            "needs_background": "light"
          }
        }
      ]
    },
    {
      "cell_type": "code",
      "source": [
        "p= sns.catplot(x=\"LT\", y=\"harga\", hue=\"lokasi\", data=jakarta)"
      ],
      "metadata": {
        "colab": {
          "base_uri": "https://localhost:8080/",
          "height": 369
        },
        "id": "faJ7VuWPsxkB",
        "outputId": "1d689ec5-add1-49a0-996b-6d5ff064cb78"
      },
      "execution_count": null,
      "outputs": [
        {
          "output_type": "display_data",
          "data": {
            "text/plain": [
              "<Figure size 483.6x360 with 1 Axes>"
            ],
            "image/png": "[encoded data removed]"
          },
          "metadata": {
            "needs_background": "light"
          }
        }
      ]
    },
    {
      "cell_type": "markdown",
      "source": [
        "Kami menyarankan perusahaan untuk membeli rumah yang berlokasi di Jakarta Pusat yang memiliki luas tanah paling tinggi dengan harga rendah, karena rumah dengan tanah yang luas dapat dimanfaatkan untuk membangun berbagai fasilitas yang dibutuhkan atau untuk membuka usaha. Selain itu, rumah tersebut memiliki lokasi yang sangat strategis yaitu di Jakarta Pusat, dimana Jakarta Pusat adalah wilayah Jakarta yang paling banyak pengunjungnya."
      ],
      "metadata": {
        "id": "WX3suSJotB27"
      }
    },
    {
      "cell_type": "code",
      "source": [
        "p= sns.catplot(x=\"LT\", y=\"harga\", hue=\"lokasi\", data=bekasi)"
      ],
      "metadata": {
        "colab": {
          "base_uri": "https://localhost:8080/",
          "height": 369
        },
        "id": "W3VpsFAut209",
        "outputId": "b82e3483-5907-4f27-cfdc-73e547dcded3"
      },
      "execution_count": null,
      "outputs": [
        {
          "output_type": "display_data",
          "data": {
            "text/plain": [
              "<Figure size 498.85x360 with 1 Axes>"
            ],
            "image/png": "[encoded data removed]"
          },
          "metadata": {
            "needs_background": "light"
          }
        }
      ]
    },
    {
      "cell_type": "markdown",
      "source": [
        "Berdasarkan data yang berlokasi di bekasi setelah kami visualisasikan, yaitu ketergantungan antara luas tanah dan harga dapat kita asumsikan bahwa rumah yang berlokasi di kota bekasi yang cenderung memiliki harga di bawah 2M, tetapi luas tanahnya merentang dari kecil hingga besar.\n",
        "\n",
        "Saran dari kami, kami merekomendasikan perusahaan untuk menginvestasikan pada rumah yang berlokasi di kota bekasi dengan harga dibawah 2M yang memiliki LT yang lebih luas, karena tanah yang lebih luas dapat dibuat fasilitas tambahan untuk rumah tersebut.\n",
        "\n",
        "Kami tidak merekomendasikan satu rumah yang memiliki harga diatas 4M, karena masih terdapat rumah dengan luas yang hampir sama bahkan lebih namun dengan harga yang jauh lebih murah."
      ],
      "metadata": {
        "id": "AI1UVYIzt4B0"
      }
    },
    {
      "cell_type": "code",
      "source": [
        "sns.lmplot(x=\"garasi\", y=\"harga\", hue='lokasi', data=jakarta);"
      ],
      "metadata": {
        "colab": {
          "base_uri": "https://localhost:8080/",
          "height": 369
        },
        "id": "4a6FzmVIk3_l",
        "outputId": "a86816f3-bbb2-4b5f-9523-0366e9f8376d"
      },
      "execution_count": null,
      "outputs": [
        {
          "output_type": "display_data",
          "data": {
            "text/plain": [
              "<Figure size 483.6x360 with 1 Axes>"
            ],
            "image/png": "[encoded data removed]"
          },
          "metadata": {
            "needs_background": "light"
          }
        }
      ]
    },
    {
      "cell_type": "markdown",
      "source": [
        "Berdasarkan visuaisasi di atas, kami merekomendasikan rumah dengan harga yang terjangkau di lokasi Jakarta Selatan dengan jumlah garasi sebanyak 8 buah. Lalu, kami tidak merekomendasikan membeli rumah di daerah Jakarta Pusat karena terdapat rumah dengan harga yang tinggi dengan fasilitas yang kurang memadai berupa tidak adanya garasi."
      ],
      "metadata": {
        "id": "uLCjWefpmKZ7"
      }
    },
    {
      "cell_type": "code",
      "source": [
        "sns.lmplot(x=\"garasi\", y=\"harga\", hue='lokasi', data=bogor);"
      ],
      "metadata": {
        "colab": {
          "base_uri": "https://localhost:8080/",
          "height": 471
        },
        "id": "hdyKJ_aYnCqJ",
        "outputId": "0a0b835d-06aa-484f-9191-81ff2afa2370"
      },
      "execution_count": null,
      "outputs": [
        {
          "output_type": "display_data",
          "data": {
            "text/plain": [
              "<Figure size 494.975x360 with 1 Axes>"
            ],
            "image/png": "[encoded data removed]"
          },
          "metadata": {
            "needs_background": "light"
          }
        }
      ]
    },
    {
      "cell_type": "markdown",
      "source": [
        "Berdasarkan visuaisasi di atas, kami merekomendasikan rumah dengan harga yang terjangkau di lokasi daerah Tenjo dengan jumlah garasi sebanyak 3 buah. Lalu, kami tidak merekomendasikan membeli rumah di daerah Babakan dan Cibinong karena rata-rata harga rumah di daerah tersebut tergolong sedikit mahal dari daerah yang lainnya dengan fasilitas garasi yang didapat."
      ],
      "metadata": {
        "id": "ioAVEuBCnGkF"
      }
    },
    {
      "cell_type": "code",
      "source": [
        "sns.lmplot(x=\"garasi\", y=\"harga\", hue='lokasi', data=bekasi);"
      ],
      "metadata": {
        "colab": {
          "base_uri": "https://localhost:8080/",
          "height": 369
        },
        "id": "BN_nFJkVn647",
        "outputId": "87dd3e53-b8ee-439c-c968-9c740bee5883"
      },
      "execution_count": null,
      "outputs": [
        {
          "output_type": "display_data",
          "data": {
            "text/plain": [
              "<Figure size 498.85x360 with 1 Axes>"
            ],
            "image/png": "[encoded data removed]"
          },
          "metadata": {
            "needs_background": "light"
          }
        }
      ]
    },
    {
      "cell_type": "markdown",
      "source": [
        ">> Berdasarkan visualisasi di atas, harga rata-rata rumah di Kota Bekasi dengan fasilitas garasi yang didapat lebih mahal dibandingkan dengan Kabupaten Bekasi. \n",
        "Berdasarkan visualisasi di atas, kami merekomendasikan ada 3 rumah di daerah Koa Bekasi yang memiliki harga yang murah dan memiliki jumlah garasi yang lebih banyak."
      ],
      "metadata": {
        "id": "IoUNUkx_oAx1"
      }
    },
    {
      "cell_type": "code",
      "source": [
        "# garbungkan ketiga data\n",
        "df = jakarta.merge(bogor, how=\"outer\")\n",
        "df = df.merge(bekasi, how=\"outer\")\n",
        "\n",
        "print(f'Jumlah baris sebelum memfilter outlier: {len(df)}')\n",
        "# kolom = [\"LT\",\"LB\", \"KT\", \"KM\",\"garasi\",\"carport\",\"sertifikat\"]\n",
        "for col in ['LT','LB', 'KT', 'KM','garasi','carport', 'harga']:\n",
        "  Q1 = df[col].quantile(0.25)\n",
        "  Q3 = df[col].quantile(0.75)\n",
        "  IQR = Q3-Q1\n",
        "  low_limit = Q1 - 1.5*IQR\n",
        "  high_limit = Q3 + 1.5*IQR\n",
        "  df = df[(df[col] >= low_limit) & (df[col] <= high_limit)]\n",
        "\n",
        "print(f'Jumlah baris setelah memfilter outlier: {len(df)}')"
      ],
      "metadata": {
        "colab": {
          "base_uri": "https://localhost:8080/"
        },
        "id": "_oSQFIeBgCV3",
        "outputId": "f7b7ef29-b277-46b9-b7c5-2717563aa9f0"
      },
      "execution_count": null,
      "outputs": [
        {
          "output_type": "stream",
          "name": "stdout",
          "text": [
            "Jumlah baris sebelum memfilter outlier: 713732\n",
            "Jumlah baris setelah memfilter outlier: 136\n"
          ]
        }
      ]
    },
    {
      "cell_type": "code",
      "source": [
        "df = pd.merge(jakarta, bogor, how=\"outer\")\n",
        "df = df.merge(bekasi, how='outer')\n",
        "plt.figure(figsize=(12,10))\n",
        "sns.heatmap(df.corr(),annot=True, cmap='PuBuGn')"
      ],
      "metadata": {
        "colab": {
          "base_uri": "https://localhost:8080/",
          "height": 617
        },
        "id": "AD4k1ClugSgb",
        "outputId": "8e41ba0d-f033-4e48-8459-9707475325fd"
      },
      "execution_count": null,
      "outputs": [
        {
          "output_type": "execute_result",
          "data": {
            "text/plain": [
              "<matplotlib.axes._subplots.AxesSubplot at 0x7f0f2f099350>"
            ]
          },
          "metadata": {},
          "execution_count": 18
        },
        {
          "output_type": "display_data",
          "data": {
            "text/plain": [
              "<Figure size 864x720 with 2 Axes>"
            ],
            "image/png": "[encoded data removed]"
          },
          "metadata": {
            "needs_background": "light"
          }
        }
      ]
    },
    {
      "cell_type": "markdown",
      "source": [
        ">> Berdasarkan tabel korelasi diatas, dapat disimpulkan bahwa luas bangunan dengan harga yang memiliki tingkat korelasi tinggi dan cenderung memiliki hubungan yang kuat. Hal ini menunjukkan bahwa harga rumah dipengaruhi oleh luas bangunannya."
      ],
      "metadata": {
        "id": "BOtv5Xhpu1Jt"
      }
    },
    {
      "cell_type": "markdown",
      "source": [
        "**Kesimpulan**\n",
        "\n",
        ">> Kesimpulan: Berdasarkan tabel korelasi diatas dapat disimpulkan bahwa luas bangunan dengan harga memiliki hubungan yang kuat. Hal ini menunjukkan bahwa harga rumah dipengaruhi oleh luas bangunannya. \n",
        ">> Kami merekomendasikan rumah di daerah kabupaten Bekasi karena memilki harga yang cenderung lebih murah dibandingkan dengan Kota Bekasi, hal ini dipengaruhi oleh beberapa faktor, diantaranya ialah Kabupaten termasuk daerah yang dekat dengan pedesaan dan memiiki lokasi dengan tanah yang luas dan memiliki nuansa yang nyaman untuk ditinggali oleh para pensiunan. "
      ],
      "metadata": {
        "id": "VgLa2DKQlGtt"
      }
    }
  ]
}